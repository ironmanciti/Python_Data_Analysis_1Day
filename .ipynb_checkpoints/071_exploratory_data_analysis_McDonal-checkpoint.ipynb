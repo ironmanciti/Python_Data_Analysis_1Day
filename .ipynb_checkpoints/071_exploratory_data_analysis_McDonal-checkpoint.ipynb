{
 "cells": [
  {
   "cell_type": "markdown",
   "metadata": {},
   "source": [
    "# EDA - 맥도날드 메뉴 영양 분석\n",
    "\n",
    "- 이 데이터 세트는 아침 식사, 소고기 버거, 치킨 및 생선 샌드위치, 감자 튀김, 샐러드, 소다, 커피 및 차, 밀크 셰이크 및 디저트를 포함하여 미국 맥도날드 메뉴의 모든 메뉴 항목에 대한 영양 분석을 제공합니다."
   ]
  },
  {
   "cell_type": "code",
   "execution_count": 1,
   "metadata": {},
   "outputs": [
    {
     "data": {
      "text/html": [
       "<div>\n",
       "<style scoped>\n",
       "    .dataframe tbody tr th:only-of-type {\n",
       "        vertical-align: middle;\n",
       "    }\n",
       "\n",
       "    .dataframe tbody tr th {\n",
       "        vertical-align: top;\n",
       "    }\n",
       "\n",
       "    .dataframe thead th {\n",
       "        text-align: right;\n",
       "    }\n",
       "</style>\n",
       "<table border=\"1\" class=\"dataframe\">\n",
       "  <thead>\n",
       "    <tr style=\"text-align: right;\">\n",
       "      <th></th>\n",
       "      <th>Category</th>\n",
       "      <th>Item</th>\n",
       "      <th>Serving Size</th>\n",
       "      <th>Calories</th>\n",
       "      <th>Calories from Fat</th>\n",
       "      <th>Total Fat</th>\n",
       "      <th>Total Fat (% Daily Value)</th>\n",
       "      <th>Saturated Fat</th>\n",
       "      <th>Saturated Fat (% Daily Value)</th>\n",
       "      <th>Trans Fat</th>\n",
       "      <th>...</th>\n",
       "      <th>Carbohydrates</th>\n",
       "      <th>Carbohydrates (% Daily Value)</th>\n",
       "      <th>Dietary Fiber</th>\n",
       "      <th>Dietary Fiber (% Daily Value)</th>\n",
       "      <th>Sugars</th>\n",
       "      <th>Protein</th>\n",
       "      <th>Vitamin A (% Daily Value)</th>\n",
       "      <th>Vitamin C (% Daily Value)</th>\n",
       "      <th>Calcium (% Daily Value)</th>\n",
       "      <th>Iron (% Daily Value)</th>\n",
       "    </tr>\n",
       "  </thead>\n",
       "  <tbody>\n",
       "    <tr>\n",
       "      <th>0</th>\n",
       "      <td>Breakfast</td>\n",
       "      <td>Egg McMuffin</td>\n",
       "      <td>4.8 oz (136 g)</td>\n",
       "      <td>300</td>\n",
       "      <td>120</td>\n",
       "      <td>13.0</td>\n",
       "      <td>20</td>\n",
       "      <td>5.0</td>\n",
       "      <td>25</td>\n",
       "      <td>0.0</td>\n",
       "      <td>...</td>\n",
       "      <td>31</td>\n",
       "      <td>10</td>\n",
       "      <td>4</td>\n",
       "      <td>17</td>\n",
       "      <td>3</td>\n",
       "      <td>17</td>\n",
       "      <td>10</td>\n",
       "      <td>0</td>\n",
       "      <td>25</td>\n",
       "      <td>15</td>\n",
       "    </tr>\n",
       "    <tr>\n",
       "      <th>1</th>\n",
       "      <td>Breakfast</td>\n",
       "      <td>Egg White Delight</td>\n",
       "      <td>4.8 oz (135 g)</td>\n",
       "      <td>250</td>\n",
       "      <td>70</td>\n",
       "      <td>8.0</td>\n",
       "      <td>12</td>\n",
       "      <td>3.0</td>\n",
       "      <td>15</td>\n",
       "      <td>0.0</td>\n",
       "      <td>...</td>\n",
       "      <td>30</td>\n",
       "      <td>10</td>\n",
       "      <td>4</td>\n",
       "      <td>17</td>\n",
       "      <td>3</td>\n",
       "      <td>18</td>\n",
       "      <td>6</td>\n",
       "      <td>0</td>\n",
       "      <td>25</td>\n",
       "      <td>8</td>\n",
       "    </tr>\n",
       "    <tr>\n",
       "      <th>2</th>\n",
       "      <td>Breakfast</td>\n",
       "      <td>Sausage McMuffin</td>\n",
       "      <td>3.9 oz (111 g)</td>\n",
       "      <td>370</td>\n",
       "      <td>200</td>\n",
       "      <td>23.0</td>\n",
       "      <td>35</td>\n",
       "      <td>8.0</td>\n",
       "      <td>42</td>\n",
       "      <td>0.0</td>\n",
       "      <td>...</td>\n",
       "      <td>29</td>\n",
       "      <td>10</td>\n",
       "      <td>4</td>\n",
       "      <td>17</td>\n",
       "      <td>2</td>\n",
       "      <td>14</td>\n",
       "      <td>8</td>\n",
       "      <td>0</td>\n",
       "      <td>25</td>\n",
       "      <td>10</td>\n",
       "    </tr>\n",
       "    <tr>\n",
       "      <th>3</th>\n",
       "      <td>Breakfast</td>\n",
       "      <td>Sausage McMuffin with Egg</td>\n",
       "      <td>5.7 oz (161 g)</td>\n",
       "      <td>450</td>\n",
       "      <td>250</td>\n",
       "      <td>28.0</td>\n",
       "      <td>43</td>\n",
       "      <td>10.0</td>\n",
       "      <td>52</td>\n",
       "      <td>0.0</td>\n",
       "      <td>...</td>\n",
       "      <td>30</td>\n",
       "      <td>10</td>\n",
       "      <td>4</td>\n",
       "      <td>17</td>\n",
       "      <td>2</td>\n",
       "      <td>21</td>\n",
       "      <td>15</td>\n",
       "      <td>0</td>\n",
       "      <td>30</td>\n",
       "      <td>15</td>\n",
       "    </tr>\n",
       "    <tr>\n",
       "      <th>4</th>\n",
       "      <td>Breakfast</td>\n",
       "      <td>Sausage McMuffin with Egg Whites</td>\n",
       "      <td>5.7 oz (161 g)</td>\n",
       "      <td>400</td>\n",
       "      <td>210</td>\n",
       "      <td>23.0</td>\n",
       "      <td>35</td>\n",
       "      <td>8.0</td>\n",
       "      <td>42</td>\n",
       "      <td>0.0</td>\n",
       "      <td>...</td>\n",
       "      <td>30</td>\n",
       "      <td>10</td>\n",
       "      <td>4</td>\n",
       "      <td>17</td>\n",
       "      <td>2</td>\n",
       "      <td>21</td>\n",
       "      <td>6</td>\n",
       "      <td>0</td>\n",
       "      <td>25</td>\n",
       "      <td>10</td>\n",
       "    </tr>\n",
       "  </tbody>\n",
       "</table>\n",
       "<p>5 rows × 24 columns</p>\n",
       "</div>"
      ],
      "text/plain": [
       "    Category                              Item    Serving Size  Calories  \\\n",
       "0  Breakfast                      Egg McMuffin  4.8 oz (136 g)       300   \n",
       "1  Breakfast                 Egg White Delight  4.8 oz (135 g)       250   \n",
       "2  Breakfast                  Sausage McMuffin  3.9 oz (111 g)       370   \n",
       "3  Breakfast         Sausage McMuffin with Egg  5.7 oz (161 g)       450   \n",
       "4  Breakfast  Sausage McMuffin with Egg Whites  5.7 oz (161 g)       400   \n",
       "\n",
       "   Calories from Fat  Total Fat  Total Fat (% Daily Value)  Saturated Fat  \\\n",
       "0                120       13.0                         20            5.0   \n",
       "1                 70        8.0                         12            3.0   \n",
       "2                200       23.0                         35            8.0   \n",
       "3                250       28.0                         43           10.0   \n",
       "4                210       23.0                         35            8.0   \n",
       "\n",
       "   Saturated Fat (% Daily Value)  Trans Fat  ...  Carbohydrates  \\\n",
       "0                             25        0.0  ...             31   \n",
       "1                             15        0.0  ...             30   \n",
       "2                             42        0.0  ...             29   \n",
       "3                             52        0.0  ...             30   \n",
       "4                             42        0.0  ...             30   \n",
       "\n",
       "   Carbohydrates (% Daily Value)  Dietary Fiber  \\\n",
       "0                             10              4   \n",
       "1                             10              4   \n",
       "2                             10              4   \n",
       "3                             10              4   \n",
       "4                             10              4   \n",
       "\n",
       "   Dietary Fiber (% Daily Value)  Sugars  Protein  Vitamin A (% Daily Value)  \\\n",
       "0                             17       3       17                         10   \n",
       "1                             17       3       18                          6   \n",
       "2                             17       2       14                          8   \n",
       "3                             17       2       21                         15   \n",
       "4                             17       2       21                          6   \n",
       "\n",
       "   Vitamin C (% Daily Value)  Calcium (% Daily Value)  Iron (% Daily Value)  \n",
       "0                          0                       25                    15  \n",
       "1                          0                       25                     8  \n",
       "2                          0                       25                    10  \n",
       "3                          0                       30                    15  \n",
       "4                          0                       25                    10  \n",
       "\n",
       "[5 rows x 24 columns]"
      ]
     },
     "execution_count": 1,
     "metadata": {},
     "output_type": "execute_result"
    }
   ],
   "source": [
    "import pandas as pd\n",
    "\n",
    "df = pd.read_csv(\"data/mcdonals_nutrition.csv\")\n",
    "df.head()"
   ]
  },
  {
   "cell_type": "markdown",
   "metadata": {},
   "source": [
    "연속 수치 변수의 기술 통계"
   ]
  },
  {
   "cell_type": "code",
   "execution_count": 2,
   "metadata": {},
   "outputs": [
    {
     "data": {
      "text/html": [
       "<div>\n",
       "<style scoped>\n",
       "    .dataframe tbody tr th:only-of-type {\n",
       "        vertical-align: middle;\n",
       "    }\n",
       "\n",
       "    .dataframe tbody tr th {\n",
       "        vertical-align: top;\n",
       "    }\n",
       "\n",
       "    .dataframe thead th {\n",
       "        text-align: right;\n",
       "    }\n",
       "</style>\n",
       "<table border=\"1\" class=\"dataframe\">\n",
       "  <thead>\n",
       "    <tr style=\"text-align: right;\">\n",
       "      <th></th>\n",
       "      <th>Calories</th>\n",
       "      <th>Calories from Fat</th>\n",
       "      <th>Total Fat</th>\n",
       "      <th>Total Fat (% Daily Value)</th>\n",
       "      <th>Saturated Fat</th>\n",
       "      <th>Saturated Fat (% Daily Value)</th>\n",
       "      <th>Trans Fat</th>\n",
       "      <th>Cholesterol</th>\n",
       "      <th>Cholesterol (% Daily Value)</th>\n",
       "      <th>Sodium</th>\n",
       "      <th>...</th>\n",
       "      <th>Carbohydrates</th>\n",
       "      <th>Carbohydrates (% Daily Value)</th>\n",
       "      <th>Dietary Fiber</th>\n",
       "      <th>Dietary Fiber (% Daily Value)</th>\n",
       "      <th>Sugars</th>\n",
       "      <th>Protein</th>\n",
       "      <th>Vitamin A (% Daily Value)</th>\n",
       "      <th>Vitamin C (% Daily Value)</th>\n",
       "      <th>Calcium (% Daily Value)</th>\n",
       "      <th>Iron (% Daily Value)</th>\n",
       "    </tr>\n",
       "  </thead>\n",
       "  <tbody>\n",
       "    <tr>\n",
       "      <th>count</th>\n",
       "      <td>260.000000</td>\n",
       "      <td>260.000000</td>\n",
       "      <td>260.000000</td>\n",
       "      <td>260.000000</td>\n",
       "      <td>260.000000</td>\n",
       "      <td>260.000000</td>\n",
       "      <td>260.000000</td>\n",
       "      <td>260.000000</td>\n",
       "      <td>260.000000</td>\n",
       "      <td>260.000000</td>\n",
       "      <td>...</td>\n",
       "      <td>260.000000</td>\n",
       "      <td>260.000000</td>\n",
       "      <td>260.000000</td>\n",
       "      <td>260.000000</td>\n",
       "      <td>260.000000</td>\n",
       "      <td>260.000000</td>\n",
       "      <td>260.000000</td>\n",
       "      <td>260.000000</td>\n",
       "      <td>260.000000</td>\n",
       "      <td>260.000000</td>\n",
       "    </tr>\n",
       "    <tr>\n",
       "      <th>mean</th>\n",
       "      <td>368.269231</td>\n",
       "      <td>127.096154</td>\n",
       "      <td>14.165385</td>\n",
       "      <td>21.815385</td>\n",
       "      <td>6.007692</td>\n",
       "      <td>29.965385</td>\n",
       "      <td>0.203846</td>\n",
       "      <td>54.942308</td>\n",
       "      <td>18.392308</td>\n",
       "      <td>495.750000</td>\n",
       "      <td>...</td>\n",
       "      <td>47.346154</td>\n",
       "      <td>15.780769</td>\n",
       "      <td>1.630769</td>\n",
       "      <td>6.530769</td>\n",
       "      <td>29.423077</td>\n",
       "      <td>13.338462</td>\n",
       "      <td>13.426923</td>\n",
       "      <td>8.534615</td>\n",
       "      <td>20.973077</td>\n",
       "      <td>7.734615</td>\n",
       "    </tr>\n",
       "    <tr>\n",
       "      <th>std</th>\n",
       "      <td>240.269886</td>\n",
       "      <td>127.875914</td>\n",
       "      <td>14.205998</td>\n",
       "      <td>21.885199</td>\n",
       "      <td>5.321873</td>\n",
       "      <td>26.639209</td>\n",
       "      <td>0.429133</td>\n",
       "      <td>87.269257</td>\n",
       "      <td>29.091653</td>\n",
       "      <td>577.026323</td>\n",
       "      <td>...</td>\n",
       "      <td>28.252232</td>\n",
       "      <td>9.419544</td>\n",
       "      <td>1.567717</td>\n",
       "      <td>6.307057</td>\n",
       "      <td>28.679797</td>\n",
       "      <td>11.426146</td>\n",
       "      <td>24.366381</td>\n",
       "      <td>26.345542</td>\n",
       "      <td>17.019953</td>\n",
       "      <td>8.723263</td>\n",
       "    </tr>\n",
       "    <tr>\n",
       "      <th>min</th>\n",
       "      <td>0.000000</td>\n",
       "      <td>0.000000</td>\n",
       "      <td>0.000000</td>\n",
       "      <td>0.000000</td>\n",
       "      <td>0.000000</td>\n",
       "      <td>0.000000</td>\n",
       "      <td>0.000000</td>\n",
       "      <td>0.000000</td>\n",
       "      <td>0.000000</td>\n",
       "      <td>0.000000</td>\n",
       "      <td>...</td>\n",
       "      <td>0.000000</td>\n",
       "      <td>0.000000</td>\n",
       "      <td>0.000000</td>\n",
       "      <td>0.000000</td>\n",
       "      <td>0.000000</td>\n",
       "      <td>0.000000</td>\n",
       "      <td>0.000000</td>\n",
       "      <td>0.000000</td>\n",
       "      <td>0.000000</td>\n",
       "      <td>0.000000</td>\n",
       "    </tr>\n",
       "    <tr>\n",
       "      <th>25%</th>\n",
       "      <td>210.000000</td>\n",
       "      <td>20.000000</td>\n",
       "      <td>2.375000</td>\n",
       "      <td>3.750000</td>\n",
       "      <td>1.000000</td>\n",
       "      <td>4.750000</td>\n",
       "      <td>0.000000</td>\n",
       "      <td>5.000000</td>\n",
       "      <td>2.000000</td>\n",
       "      <td>107.500000</td>\n",
       "      <td>...</td>\n",
       "      <td>30.000000</td>\n",
       "      <td>10.000000</td>\n",
       "      <td>0.000000</td>\n",
       "      <td>0.000000</td>\n",
       "      <td>5.750000</td>\n",
       "      <td>4.000000</td>\n",
       "      <td>2.000000</td>\n",
       "      <td>0.000000</td>\n",
       "      <td>6.000000</td>\n",
       "      <td>0.000000</td>\n",
       "    </tr>\n",
       "    <tr>\n",
       "      <th>50%</th>\n",
       "      <td>340.000000</td>\n",
       "      <td>100.000000</td>\n",
       "      <td>11.000000</td>\n",
       "      <td>17.000000</td>\n",
       "      <td>5.000000</td>\n",
       "      <td>24.000000</td>\n",
       "      <td>0.000000</td>\n",
       "      <td>35.000000</td>\n",
       "      <td>11.000000</td>\n",
       "      <td>190.000000</td>\n",
       "      <td>...</td>\n",
       "      <td>44.000000</td>\n",
       "      <td>15.000000</td>\n",
       "      <td>1.000000</td>\n",
       "      <td>5.000000</td>\n",
       "      <td>17.500000</td>\n",
       "      <td>12.000000</td>\n",
       "      <td>8.000000</td>\n",
       "      <td>0.000000</td>\n",
       "      <td>20.000000</td>\n",
       "      <td>4.000000</td>\n",
       "    </tr>\n",
       "    <tr>\n",
       "      <th>75%</th>\n",
       "      <td>500.000000</td>\n",
       "      <td>200.000000</td>\n",
       "      <td>22.250000</td>\n",
       "      <td>35.000000</td>\n",
       "      <td>10.000000</td>\n",
       "      <td>48.000000</td>\n",
       "      <td>0.000000</td>\n",
       "      <td>65.000000</td>\n",
       "      <td>21.250000</td>\n",
       "      <td>865.000000</td>\n",
       "      <td>...</td>\n",
       "      <td>60.000000</td>\n",
       "      <td>20.000000</td>\n",
       "      <td>3.000000</td>\n",
       "      <td>10.000000</td>\n",
       "      <td>48.000000</td>\n",
       "      <td>19.000000</td>\n",
       "      <td>15.000000</td>\n",
       "      <td>4.000000</td>\n",
       "      <td>30.000000</td>\n",
       "      <td>15.000000</td>\n",
       "    </tr>\n",
       "    <tr>\n",
       "      <th>max</th>\n",
       "      <td>1880.000000</td>\n",
       "      <td>1060.000000</td>\n",
       "      <td>118.000000</td>\n",
       "      <td>182.000000</td>\n",
       "      <td>20.000000</td>\n",
       "      <td>102.000000</td>\n",
       "      <td>2.500000</td>\n",
       "      <td>575.000000</td>\n",
       "      <td>192.000000</td>\n",
       "      <td>3600.000000</td>\n",
       "      <td>...</td>\n",
       "      <td>141.000000</td>\n",
       "      <td>47.000000</td>\n",
       "      <td>7.000000</td>\n",
       "      <td>28.000000</td>\n",
       "      <td>128.000000</td>\n",
       "      <td>87.000000</td>\n",
       "      <td>170.000000</td>\n",
       "      <td>240.000000</td>\n",
       "      <td>70.000000</td>\n",
       "      <td>40.000000</td>\n",
       "    </tr>\n",
       "  </tbody>\n",
       "</table>\n",
       "<p>8 rows × 21 columns</p>\n",
       "</div>"
      ],
      "text/plain": [
       "          Calories  Calories from Fat   Total Fat  Total Fat (% Daily Value)  \\\n",
       "count   260.000000         260.000000  260.000000                 260.000000   \n",
       "mean    368.269231         127.096154   14.165385                  21.815385   \n",
       "std     240.269886         127.875914   14.205998                  21.885199   \n",
       "min       0.000000           0.000000    0.000000                   0.000000   \n",
       "25%     210.000000          20.000000    2.375000                   3.750000   \n",
       "50%     340.000000         100.000000   11.000000                  17.000000   \n",
       "75%     500.000000         200.000000   22.250000                  35.000000   \n",
       "max    1880.000000        1060.000000  118.000000                 182.000000   \n",
       "\n",
       "       Saturated Fat  Saturated Fat (% Daily Value)   Trans Fat  Cholesterol  \\\n",
       "count     260.000000                     260.000000  260.000000   260.000000   \n",
       "mean        6.007692                      29.965385    0.203846    54.942308   \n",
       "std         5.321873                      26.639209    0.429133    87.269257   \n",
       "min         0.000000                       0.000000    0.000000     0.000000   \n",
       "25%         1.000000                       4.750000    0.000000     5.000000   \n",
       "50%         5.000000                      24.000000    0.000000    35.000000   \n",
       "75%        10.000000                      48.000000    0.000000    65.000000   \n",
       "max        20.000000                     102.000000    2.500000   575.000000   \n",
       "\n",
       "       Cholesterol (% Daily Value)       Sodium  ...  Carbohydrates  \\\n",
       "count                   260.000000   260.000000  ...     260.000000   \n",
       "mean                     18.392308   495.750000  ...      47.346154   \n",
       "std                      29.091653   577.026323  ...      28.252232   \n",
       "min                       0.000000     0.000000  ...       0.000000   \n",
       "25%                       2.000000   107.500000  ...      30.000000   \n",
       "50%                      11.000000   190.000000  ...      44.000000   \n",
       "75%                      21.250000   865.000000  ...      60.000000   \n",
       "max                     192.000000  3600.000000  ...     141.000000   \n",
       "\n",
       "       Carbohydrates (% Daily Value)  Dietary Fiber  \\\n",
       "count                     260.000000     260.000000   \n",
       "mean                       15.780769       1.630769   \n",
       "std                         9.419544       1.567717   \n",
       "min                         0.000000       0.000000   \n",
       "25%                        10.000000       0.000000   \n",
       "50%                        15.000000       1.000000   \n",
       "75%                        20.000000       3.000000   \n",
       "max                        47.000000       7.000000   \n",
       "\n",
       "       Dietary Fiber (% Daily Value)      Sugars     Protein  \\\n",
       "count                     260.000000  260.000000  260.000000   \n",
       "mean                        6.530769   29.423077   13.338462   \n",
       "std                         6.307057   28.679797   11.426146   \n",
       "min                         0.000000    0.000000    0.000000   \n",
       "25%                         0.000000    5.750000    4.000000   \n",
       "50%                         5.000000   17.500000   12.000000   \n",
       "75%                        10.000000   48.000000   19.000000   \n",
       "max                        28.000000  128.000000   87.000000   \n",
       "\n",
       "       Vitamin A (% Daily Value)  Vitamin C (% Daily Value)  \\\n",
       "count                 260.000000                 260.000000   \n",
       "mean                   13.426923                   8.534615   \n",
       "std                    24.366381                  26.345542   \n",
       "min                     0.000000                   0.000000   \n",
       "25%                     2.000000                   0.000000   \n",
       "50%                     8.000000                   0.000000   \n",
       "75%                    15.000000                   4.000000   \n",
       "max                   170.000000                 240.000000   \n",
       "\n",
       "       Calcium (% Daily Value)  Iron (% Daily Value)  \n",
       "count               260.000000            260.000000  \n",
       "mean                 20.973077              7.734615  \n",
       "std                  17.019953              8.723263  \n",
       "min                   0.000000              0.000000  \n",
       "25%                   6.000000              0.000000  \n",
       "50%                  20.000000              4.000000  \n",
       "75%                  30.000000             15.000000  \n",
       "max                  70.000000             40.000000  \n",
       "\n",
       "[8 rows x 21 columns]"
      ]
     },
     "execution_count": 2,
     "metadata": {},
     "output_type": "execute_result"
    }
   ],
   "source": [
    "df.describe()"
   ]
  },
  {
   "cell_type": "markdown",
   "metadata": {},
   "source": [
    "category 변수의 기술 통계"
   ]
  },
  {
   "cell_type": "code",
   "execution_count": 3,
   "metadata": {},
   "outputs": [
    {
     "data": {
      "text/html": [
       "<div>\n",
       "<style scoped>\n",
       "    .dataframe tbody tr th:only-of-type {\n",
       "        vertical-align: middle;\n",
       "    }\n",
       "\n",
       "    .dataframe tbody tr th {\n",
       "        vertical-align: top;\n",
       "    }\n",
       "\n",
       "    .dataframe thead th {\n",
       "        text-align: right;\n",
       "    }\n",
       "</style>\n",
       "<table border=\"1\" class=\"dataframe\">\n",
       "  <thead>\n",
       "    <tr style=\"text-align: right;\">\n",
       "      <th></th>\n",
       "      <th>Category</th>\n",
       "      <th>Item</th>\n",
       "      <th>Serving Size</th>\n",
       "    </tr>\n",
       "  </thead>\n",
       "  <tbody>\n",
       "    <tr>\n",
       "      <th>count</th>\n",
       "      <td>260</td>\n",
       "      <td>260</td>\n",
       "      <td>260</td>\n",
       "    </tr>\n",
       "    <tr>\n",
       "      <th>unique</th>\n",
       "      <td>9</td>\n",
       "      <td>260</td>\n",
       "      <td>107</td>\n",
       "    </tr>\n",
       "    <tr>\n",
       "      <th>top</th>\n",
       "      <td>Coffee &amp; Tea</td>\n",
       "      <td>Egg McMuffin</td>\n",
       "      <td>16 fl oz cup</td>\n",
       "    </tr>\n",
       "    <tr>\n",
       "      <th>freq</th>\n",
       "      <td>95</td>\n",
       "      <td>1</td>\n",
       "      <td>45</td>\n",
       "    </tr>\n",
       "  </tbody>\n",
       "</table>\n",
       "</div>"
      ],
      "text/plain": [
       "            Category          Item  Serving Size\n",
       "count            260           260           260\n",
       "unique             9           260           107\n",
       "top     Coffee & Tea  Egg McMuffin  16 fl oz cup\n",
       "freq              95             1            45"
      ]
     },
     "execution_count": 3,
     "metadata": {},
     "output_type": "execute_result"
    }
   ],
   "source": [
    "df.describe(include='O')"
   ]
  },
  {
   "cell_type": "markdown",
   "metadata": {},
   "source": [
    "### 어떤 food item 이 가장 나트륨(sodium) 함량이 높은지 분석"
   ]
  },
  {
   "cell_type": "code",
   "execution_count": 4,
   "metadata": {},
   "outputs": [
    {
     "data": {
      "text/plain": [
       "Index(['Category', 'Item', 'Serving Size', 'Calories', 'Calories from Fat',\n",
       "       'Total Fat', 'Total Fat (% Daily Value)', 'Saturated Fat',\n",
       "       'Saturated Fat (% Daily Value)', 'Trans Fat', 'Cholesterol',\n",
       "       'Cholesterol (% Daily Value)', 'Sodium', 'Sodium (% Daily Value)',\n",
       "       'Carbohydrates', 'Carbohydrates (% Daily Value)', 'Dietary Fiber',\n",
       "       'Dietary Fiber (% Daily Value)', 'Sugars', 'Protein',\n",
       "       'Vitamin A (% Daily Value)', 'Vitamin C (% Daily Value)',\n",
       "       'Calcium (% Daily Value)', 'Iron (% Daily Value)'],\n",
       "      dtype='object')"
      ]
     },
     "execution_count": 4,
     "metadata": {},
     "output_type": "execute_result"
    }
   ],
   "source": [
    "df.columns"
   ]
  },
  {
   "cell_type": "markdown",
   "metadata": {},
   "source": [
    "### swarmplot\n",
    "\n",
    "겹치지 않는 점으로 범주형 산점도를 생성하는 seaborn 라이브러리의 함수입니다."
   ]
  },
  {
   "cell_type": "code",
   "execution_count": 5,
   "metadata": {},
   "outputs": [
    {
     "data": {
      "image/png": "[encoded data removed]",
      "text/plain": [
       "<Figure size 640x480 with 1 Axes>"
      ]
     },
     "metadata": {},
     "output_type": "display_data"
    }
   ],
   "source": [
    "import seaborn as sns\n",
    "import matplotlib.pyplot as plt\n",
    "\n",
    "ax = sns.stripplot(x=\"Category\", y=\"Sodium\", data=df)\n",
    "plt.setp(ax.get_xticklabels(), rotation=70)\n",
    "plt.title(\"Sodium Content\")\n",
    "plt.show()"
   ]
  },
  {
   "cell_type": "markdown",
   "metadata": {},
   "source": [
    "`Chicken & Fish Category` 에 3500 을 넘는 Sodium 이 있습니다. 어떤 item 인지 탐색해 봅니다."
   ]
  },
  {
   "cell_type": "code",
   "execution_count": 6,
   "metadata": {},
   "outputs": [
    {
     "data": {
      "text/plain": [
       "count     260.000000\n",
       "mean      495.750000\n",
       "std       577.026323\n",
       "min         0.000000\n",
       "25%       107.500000\n",
       "50%       190.000000\n",
       "75%       865.000000\n",
       "max      3600.000000\n",
       "Name: Sodium, dtype: float64"
      ]
     },
     "execution_count": 6,
     "metadata": {},
     "output_type": "execute_result"
    }
   ],
   "source": [
    "df['Sodium'].describe()"
   ]
  },
  {
   "cell_type": "markdown",
   "metadata": {},
   "source": [
    "`idxmax()` 메소드를 이용하여 max 값의 index 를 구합니다."
   ]
  },
  {
   "cell_type": "code",
   "execution_count": 7,
   "metadata": {},
   "outputs": [
    {
     "data": {
      "text/plain": [
       "82"
      ]
     },
     "execution_count": 7,
     "metadata": {},
     "output_type": "execute_result"
    }
   ],
   "source": [
    "df['Sodium'].idxmax()"
   ]
  },
  {
   "cell_type": "markdown",
   "metadata": {},
   "source": [
    "`.loc` 메소드를 이용하여 해당 index의 `item` 과 `Sodium` 값을 구합니다."
   ]
  },
  {
   "cell_type": "code",
   "execution_count": 8,
   "metadata": {},
   "outputs": [
    {
     "data": {
      "text/plain": [
       "Item      Chicken McNuggets (40 piece)\n",
       "Sodium                            3600\n",
       "Name: 82, dtype: object"
      ]
     },
     "execution_count": 8,
     "metadata": {},
     "output_type": "execute_result"
    }
   ],
   "source": [
    "df.loc[82, ['Item', 'Sodium']]"
   ]
  },
  {
   "cell_type": "markdown",
   "metadata": {},
   "source": [
    "`Chicken & Fish Category `의 `Chicken McNuggets (40 piece)` item 이 가장 나트륨 함량이 높음을 찾았습니다."
   ]
  },
  {
   "cell_type": "markdown",
   "metadata": {},
   "source": [
    "### 단백질과 지방과의 상관 관계 탐색"
   ]
  },
  {
   "cell_type": "code",
   "execution_count": 9,
   "metadata": {},
   "outputs": [
    {
     "data": {
      "text/plain": [
       "<AxesSubplot:xlabel='Protein', ylabel='Total Fat'>"
      ]
     },
     "execution_count": 9,
     "metadata": {},
     "output_type": "execute_result"
    },
    {
     "data": {
      "image/png": "[encoded data removed]",
      "text/plain": [
       "<Figure size 640x480 with 1 Axes>"
      ]
     },
     "metadata": {},
     "output_type": "display_data"
    }
   ],
   "source": [
    "sns.regplot(x=\"Protein\", y='Total Fat', data=df)"
   ]
  },
  {
   "cell_type": "markdown",
   "metadata": {},
   "source": [
    "단백질과 지방은 선형 관계가 있는 것으로 보입니다."
   ]
  },
  {
   "cell_type": "code",
   "execution_count": 10,
   "metadata": {},
   "outputs": [
    {
     "data": {
      "image/png": "[encoded data removed]",
      "text/plain": [
       "<Figure size 600x600 with 3 Axes>"
      ]
     },
     "metadata": {},
     "output_type": "display_data"
    }
   ],
   "source": [
    "sns.jointplot(x=\"Protein\", y='Total Fat', data=df)\n",
    "plt.show()"
   ]
  },
  {
   "cell_type": "markdown",
   "metadata": {},
   "source": [
    "### 결론\n",
    "\n",
    "- 염분 과다 섭취를 피하기 위해 Chicken McNuggets (40 piece) 을 먹지 말고  \n",
    "- 단백질과 지방은 비례 관계가 있으므로 고지방 섭취를 피하기 위해 단백질이 적은 식품을 섭취"
   ]
  },
  {
   "cell_type": "code",
   "execution_count": null,
   "metadata": {},
   "outputs": [],
   "source": []
  }
 ],
 "metadata": {
  "anaconda-cloud": {},
  "kernelspec": {
   "display_name": "Python 3 (ipykernel)",
   "language": "python",
   "name": "python3"
  },
  "language_info": {
   "codemirror_mode": {
    "name": "ipython",
    "version": 3
   },
   "file_extension": ".py",
   "mimetype": "text/x-python",
   "name": "python",
   "nbconvert_exporter": "python",
   "pygments_lexer": "ipython3",
   "version": "3.9.13"
  },
  "widgets": {
   "state": {},
   "version": "1.1.2"
  }
 },
 "nbformat": 4,
 "nbformat_minor": 2
}
