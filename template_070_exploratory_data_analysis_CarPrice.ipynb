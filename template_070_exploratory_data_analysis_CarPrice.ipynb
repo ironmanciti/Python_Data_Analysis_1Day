{
 "cells": [
  {
   "cell_type": "markdown",
   "metadata": {
    "id": "TSgZdx-Q5Omv"
   },
   "source": [
    "# 자동차 가격 분석 EDA"
   ]
  },
  {
   "cell_type": "markdown",
   "metadata": {
    "id": "O7JY6fKJ5Omw"
   },
   "source": [
    "### 자동차 가격에 영향을 미치는 주요 특징 분석\n",
    "\n",
    "- symboling : 자동차가 가격이 나타내는 것보다 더 위험한 정도. 자동차에는 처음에 가격과 관련된 위험 요소 기호가 할당됩니다. 그런 다음 더 위험하거나 덜 위험한 경우 이 기호를 눈금을 위(또는 아래)로 이동하여 조정합니다. 보험계리사는 이 과정을 \"symboling\"이라고 부릅니다.  값이 +3이면 자동차가 위험하다는 것을 나타내고 -3이면 꽤 안전할 수 있습니다.  \n",
    "- normalized-losses : 보험 가입 차량 연도당 상대적인 평균 손실 지불액입니다. 이 값은 특정 크기 분류(2도어, 소형, 스테이션 왜건, 스포츠/특수품 등) 내의 모든 자동차에 대해 정규화되었으며 연간 자동차당 평균 손실을 나타냅니다. 값의 범위는 65에서 256까지입니다.\n",
    "- bore : 피스톤의 직경  \n",
    "- stroke : 피스톤이 상하로 운동할 수 있는 거리\n",
    "- 나머지 feature 는 이름 그대로 이해"
   ]
  },
  {
   "cell_type": "markdown",
   "metadata": {
    "id": "tCOi-1dn5Omx"
   },
   "source": [
    "## 시각화 도구를 사용하여 개별 feature의 패턴 분석"
   ]
  },
  {
   "cell_type": "markdown",
   "metadata": {
    "id": "WHnBnANL5Omx"
   },
   "source": [
    "### 올바른 시각화 방법을 선택하는 요령\n",
    "\n",
    "개별 변수를 시각화 할 때, 다루는 변수의 유형을 먼저 이해하는 것이 중요합니다. 이렇게하면 해당 변수에 대해 올바른 시각화 방법을 찾을 수 있습니다."
   ]
  },
  {
   "cell_type": "markdown",
   "metadata": {
    "id": "8DobOxVr5Omx"
   },
   "source": [
    "각 column 의 type 조회"
   ]
  },
  {
   "cell_type": "markdown",
   "metadata": {
    "id": "1dNNzvCm5Omx"
   },
   "source": [
    "## Pearson Correlation 분석\n",
    "\n",
    "Pearson Correlation은 두 변수 X와 Y 간의 선형 의존성을 측정합니다.\n",
    "결과 계수는 -1과 1 사이의 값이며 다음과 같습니다.\n",
    "- **1** : 전체 양의 선형 상관 관계,\n",
    "- **0** : 선형 상관 관계 없음, 두 변수는 서로 영향을주지 않음\n",
    "- **- 1** : 총 음의 선형 상관 관계."
   ]
  },
  {
   "cell_type": "markdown",
   "metadata": {
    "id": "jhuhkE9m5Omx"
   },
   "source": [
    "Pearson Correlation은 `corr()` 함수의 기본 메소드입니다.   \n",
    "\n",
    "자동차 가격과 다른 특성간의 상관 관계를 알고 싶은 것이므로 `price` column을 맨 처음으로 가져오는 DataFrame을 구성합니다."
   ]
  },
  {
   "cell_type": "markdown",
   "metadata": {
    "id": "uD8iTHV75Omy"
   },
   "source": [
    "자동차 가격과 상관 관계 높은 feature를 탐색하기 위해 첫번째 row를 내림차순으로 sort 합니다."
   ]
  },
  {
   "cell_type": "markdown",
   "metadata": {
    "id": "euCf1XbH5Omy"
   },
   "source": [
    "상관 관계가 높은 상위 10개의 특성은 다음과 같습니다."
   ]
  },
  {
   "cell_type": "markdown",
   "metadata": {
    "id": "UqKF_Efm5Omy"
   },
   "source": [
    "top 10 feature 들은 price와의 양의 상관 관계가 높으므로 price 예측의 좋은 특성으로 보입니다."
   ]
  },
  {
   "cell_type": "markdown",
   "metadata": {
    "id": "_5-MxFeM5Omy"
   },
   "source": [
    "이번에는 자동차 가격과 음의 상관 관계를 가진 특성들을 골라 봅니다."
   ]
  },
  {
   "cell_type": "markdown",
   "metadata": {
    "id": "yRz9BbPM5Omy"
   },
   "source": [
    "높은 음의 상관 관계를 가진 10 개의 특성을 고릅니다."
   ]
  },
  {
   "cell_type": "markdown",
   "metadata": {
    "id": "Ja9y3iW35Omy"
   },
   "source": [
    "low 10 feature들은 price 와 역의 관계가 있으므로 역시 price 예측에 도움되는 특성으로 보입니다."
   ]
  },
  {
   "cell_type": "markdown",
   "metadata": {
    "id": "6cGkRBht5Omz"
   },
   "source": [
    "## 연속 수치 변수 (Continuous numerical variables) 분석\n",
    "\n",
    "연속 수치 변수는 어떤 범위 내의 모든 값을 포함 할 수있는 변수입니다. 연속적인 숫자 변수는 \"int64\"또는 \"float64\"유형을 가질 수 있습니다. 이러한 변수를 시각화하는 가장 좋은 방법은 맞는 선이있는 산점도를 사용하는 것입니다.\n",
    "\n",
    "개별 변수와 가격 간의 (선형) 관계를 이해하기 위해, \"regplot\"을 사용할 수 있습니다.이 \"regplot\"은 산점도와 데이터에 대한 적합한 회귀 선을 플롯합니다."
   ]
  },
  {
   "cell_type": "markdown",
   "metadata": {
    "id": "vDESgArO5Omz"
   },
   "source": [
    "### 양의 선형 관계"
   ]
  },
  {
   "cell_type": "markdown",
   "metadata": {
    "id": "PB43KKmU5Omz"
   },
   "source": [
    "\"engine-size\" 와 \"price\" 간의 산점도 작성"
   ]
  },
  {
   "cell_type": "markdown",
   "metadata": {
    "id": "wL_ymsI15Omz"
   },
   "source": [
    "엔진 크기가 올라감에 따라 가격이 상승합니다. 이는이 두 변수 간의 직접적인 긍정적 상관 관계를 나타냅니다. 회귀 직선은 거의 완벽한 대각선이므로 엔진 크기는 가격의 좋은 예측 인자로 보입니다."
   ]
  },
  {
   "cell_type": "markdown",
   "metadata": {
    "id": "4NC2-pdk5Omz"
   },
   "source": [
    "'engine-size'와 'price'사이의 상관 관계를 조사하여 대략 0.87임을 알 수 있습니다. 매우 높은 양의 상관 관계를 갖습니다."
   ]
  },
  {
   "cell_type": "markdown",
   "metadata": {
    "id": "fyI2Iwkw5Omz"
   },
   "source": [
    "### 음의 선형 관계"
   ]
  },
  {
   "cell_type": "markdown",
   "metadata": {
    "id": "-G9_u4mm5Omz"
   },
   "source": [
    "highway-mpg는 low10_feature에 속하는 가격의 잠재적 예측 변수입니다."
   ]
  },
  {
   "cell_type": "markdown",
   "metadata": {
    "id": "tm42QcId5Omz"
   },
   "source": [
    "고속도로 연비 (mpg)가 올라감에 따라 가격이 내려갑니다. 이는이 두 변수 사이의 역 / 음의 관계를 나타냅니다. 하이웨이 mpg는 잠재적으로 가격의 예측 변수가 될 수 있습니다."
   ]
  },
  {
   "cell_type": "markdown",
   "metadata": {
    "id": "WSRjWsyB5Om0"
   },
   "source": [
    "'highway-mpg'와 'price'사이의 상관 관계를 살펴보면 약 -0.704가됩니다. 매우 높은 음의 상관 관계를 갖습니다."
   ]
  },
  {
   "cell_type": "markdown",
   "metadata": {
    "id": "RdqT71Tv5Om0"
   },
   "source": [
    "### 약한 선형 관계"
   ]
  },
  {
   "cell_type": "markdown",
   "metadata": {
    "id": "BK1bhZLs5Om0"
   },
   "source": [
    "회귀 직선이 수평에 가깝기 때문에 `peak_rpm` 은 가격의 좋은 예측 지표로 보이지 않습니다. 또한 데이터 포인트가 매우 흩어져 있고 fitting 라인에서 멀리 떨어져있어 많은 변동성을 보여줍니다. 따라서 신뢰할 수있는 변수는 아닙니다."
   ]
  },
  {
   "cell_type": "markdown",
   "metadata": {
    "id": "Q_gUF-7Z5Om0"
   },
   "source": [
    "상관 관계가 -0.1로 높지 않음을 알 수 있습니다."
   ]
  },
  {
   "cell_type": "markdown",
   "metadata": {
    "id": "Chd6CUG35Om0"
   },
   "source": [
    "`stroke`와 `price`의 선형 관계를 시각화 해 보니다."
   ]
  },
  {
   "cell_type": "markdown",
   "metadata": {
    "id": "_nWpM39a5Om1"
   },
   "source": [
    "- stroke는 가격과의 상관 관계가 매우 약함을 알 수 있습니다."
   ]
  },
  {
   "cell_type": "markdown",
   "metadata": {
    "id": "ZbqIlHoi5Om1"
   },
   "source": [
    "## 범주형 변수 분석\n",
    "\n",
    "- 범주형 변수는 `object` 또는 `int64` 유형을 가질 수 있습니다.  \n",
    "- 범주형 변수를 시각화하는 좋은 방법은 상자 그림을 사용하는 것입니다."
   ]
  },
  {
   "cell_type": "markdown",
   "metadata": {
    "id": "VlW_S2t35Om1"
   },
   "source": [
    "우리는 서로 다른 body style 범주 사이의 가격 분포가 중첩되어 있으므로 body-style 이 가격의 좋은 예측 변수가되지는 않을 것이라고 봅니다.\n",
    "\n",
    "`engine-location`과 `price` 사이의 관계를 살펴 보겠습니다."
   ]
  },
  {
   "cell_type": "markdown",
   "metadata": {
    "id": "rh22hNHs5Om1"
   },
   "source": [
    "`front`와 `rear`의 두 엔진 위치 카테고리 사이의 가격 분배가 엔진 위치를 가격의 잠재적 인 좋은 예측 변수로 사용할 수있을 만큼 명확하다는 것을 알 수 있습니다."
   ]
  },
  {
   "cell_type": "markdown",
   "metadata": {
    "id": "x2C3U5uG5Om1"
   },
   "source": [
    "` drive-wheels`와 `price` 사이의 관계를 살펴 보겠습니다."
   ]
  },
  {
   "cell_type": "markdown",
   "metadata": {
    "id": "Uqhn-IwQ5Om1"
   },
   "source": [
    "다른 `drive-wheels` 범주 사이의 가격 분배가 다르다는 것을 알 수 있습니다. 이와 같이 drive-wheels은 잠재적으로 가격의 예측 변수가 될 수 있습니다."
   ]
  },
  {
   "cell_type": "markdown",
   "metadata": {
    "id": "bRUyFE9a5Om4"
   },
   "source": [
    "### 결론\n",
    "\n",
    "- 35개의 변수 중 top10_features, low10_features 연속 변수와 category 변수 중 `drive-wheels`, `body-style` 이 자동차 가격 예측에 좋은 변수로 보입니다."
   ]
  }
 ],
 "metadata": {
  "anaconda-cloud": {},
  "colab": {
   "provenance": []
  },
  "kernelspec": {
   "display_name": "Python 3 (ipykernel)",
   "language": "python",
   "name": "python3"
  },
  "language_info": {
   "codemirror_mode": {
    "name": "ipython",
    "version": 3
   },
   "file_extension": ".py",
   "mimetype": "text/x-python",
   "name": "python",
   "nbconvert_exporter": "python",
   "pygments_lexer": "ipython3",
   "version": "3.9.7"
  }
 },
 "nbformat": 4,
 "nbformat_minor": 0
}
