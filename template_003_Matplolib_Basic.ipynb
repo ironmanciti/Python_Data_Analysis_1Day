{
 "cells": [
  {
   "cell_type": "markdown",
   "metadata": {
    "id": "Rsx-AocPsD8r"
   },
   "source": [
    "# Matplotlib 기초"
   ]
  },
  {
   "cell_type": "markdown",
   "metadata": {
    "id": "XGrXRS_csD8t"
   },
   "source": [
    "# Basic Plotting with matplotlib\n",
    "\n",
    "## matplotlib 은 두가지 style 로 사용 가능"
   ]
  },
  {
   "cell_type": "markdown",
   "metadata": {
    "id": "UF2yiao_sD8u"
   },
   "source": [
    "1. Functional Programing Style  \n",
    "```\n",
    "import matplotlib.pyplot as plt  \n",
    "plt.plot(x, y)\n",
    "```\n",
    "\n",
    "2. OOP style\n",
    "```\n",
    "fig, ax = plt.subplots()  \n",
    "ax.plot(x, y)\n",
    "```"
   ]
  },
  {
   "cell_type": "markdown",
   "metadata": {
    "id": "IHgfcLwnsD8u"
   },
   "source": [
    "### pyplot 의 object 구성\n",
    "\n",
    "<center><img src=\"https://github.com/ironmanciti/Python_Data_Analysis_1Day/blob/main/fig_map.webp?raw=1\" width=\"350\"/></center>"
   ]
  },
  {
   "cell_type": "markdown",
   "metadata": {
    "id": "boGr-szFsD8u"
   },
   "source": [
    "## Functional Programming Style"
   ]
  },
  {
   "cell_type": "markdown",
   "metadata": {
    "id": "13WkKeovsD8v"
   },
   "source": [
    "### 점찍기"
   ]
  },
  {
   "cell_type": "markdown",
   "metadata": {
    "id": "5x0IB47PsD8v"
   },
   "source": [
    "### 선긋기"
   ]
  },
  {
   "cell_type": "markdown",
   "metadata": {
    "id": "wpA3vdIQsD8w"
   },
   "source": [
    "## subplot\n",
    "\n",
    "plt.subplot()은 단일 그림 내에 여러 개의 하위 플롯을 만들 수 있는 함수입니다. 하위 플롯은 기본적으로 큰 플롯 내에 함께 배열된 작은 플롯으로, 서로 다른 데이터 집합을 비교하거나 단일 데이터 집합의 여러 측면을 시각화하는 데 유용할 수 있습니다."
   ]
  },
  {
   "cell_type": "markdown",
   "metadata": {
    "id": "ooNb1JMGsD8w"
   },
   "source": [
    "### figure size 조절"
   ]
  },
  {
   "cell_type": "markdown",
   "metadata": {
    "id": "bFIIZCYWsD8w"
   },
   "source": [
    "x 값을 생략하면 y 의 index 가 default x 값이 됩니다."
   ]
  },
  {
   "cell_type": "markdown",
   "metadata": {
    "id": "-y595efysD8x"
   },
   "source": [
    "### title, label 추가"
   ]
  },
  {
   "cell_type": "markdown",
   "metadata": {
    "id": "HBwGdQessD8x"
   },
   "source": [
    "### scatter plot (산점도)\n",
    "scatter()는 두 변수 간의 관계를 2차원 평면에 점의 집합으로 표시하는 플롯 유형인 분산형 차트를 만들 수 있는 함수입니다."
   ]
  },
  {
   "cell_type": "markdown",
   "metadata": {
    "id": "WebANCbHsD8x"
   },
   "source": [
    "### data point 표시 및 연결\n",
    "plot()은 두 변수 간의 관계를 2차원 평면에 선으로 표시하는 플롯의 일종인 꺾은선형 플롯을 만들 수 있는 함수입니다."
   ]
  },
  {
   "cell_type": "markdown",
   "metadata": {
    "id": "Qbdnb2WEsD8x"
   },
   "source": [
    "### bar chart\n",
    "막대형 차트는 직사각형 막대를 사용하여 범주형 데이터를 표시하며, 각 막대의 높이 또는 길이는 표시되는 값에 비례합니다."
   ]
  },
  {
   "cell_type": "markdown",
   "metadata": {
    "id": "4tj23WdNsD8x"
   },
   "source": [
    "### 수평 bar chart"
   ]
  },
  {
   "cell_type": "markdown",
   "metadata": {
    "id": "rIFClLyBsD8y"
   },
   "source": [
    "## histogram\n",
    "히스토그램은 데이터 집합의 분포를 그래픽으로 표현한 것으로, 구간차원 집합에서 값의 발생 빈도를 보여줍니다."
   ]
  },
  {
   "cell_type": "markdown",
   "metadata": {
    "id": "kOkOvcftsD8y"
   },
   "source": [
    "## Pie Chart\n",
    "\n",
    "- explode는 부채꼴이 파이 차트의 중심에서 벗어나는 정도를 설정합니다.\n",
    "\n",
    "- autopct는 부채꼴 안에 표시될 숫자의 형식을 지정합니다. `%1.1f%%`로 설정하여 슬라이스의 값을 소수점 이하 1자리에서 백분율로 서식을 지정합니다."
   ]
  },
  {
   "cell_type": "markdown",
   "metadata": {
    "id": "o2SJw2yisD8z"
   },
   "source": [
    "## OOP style\n",
    "\n",
    "플롯 객체를 생성하고 해당 메서드를 호출하여 속성을 설정하는 객체 지향 인터페이스를 기반으로 합니다."
   ]
  },
  {
   "cell_type": "markdown",
   "metadata": {
    "id": "_IdQ5x5AsD8z"
   },
   "source": [
    "## multiple subplots"
   ]
  },
  {
   "cell_type": "markdown",
   "metadata": {
    "id": "rf6pMY5HsD8z"
   },
   "source": [
    "**y = x + noise 인 (x, y) 쌍의 toy data 생성**\n",
    "\n",
    "`np.column_stack`은 1D 배열을 2D 배열로 열로 스택하는 NumPy 함수입니다. 이 함수는 1D 배열 시퀀스를 입력으로 받아 입력 배열과 길이가 같은 2D 배열을 반환합니다. 입력 배열은 열로 가로로 쌓입니다."
   ]
  },
  {
   "cell_type": "markdown",
   "metadata": {
    "id": "hLD9AkBVsD80"
   },
   "source": [
    "plt.subplots() 는 OOP style 에서 pyplot 을 이용하는 유일한 경우입니다.  \n",
    "`yaxis.tick_right()`는 y축 눈금이 플롯의 왼쪽이 아닌 오른쪽에 나타나도록 설정하는 Matplotlib의 메서드입니다.  \n",
    "`plt.tight_layout()`은 텍스트와 레이블이 겹치지 않도록 하위 플롯 사이 또는 플롯과 그림 가장자리 사이의 패딩을 자동으로 조정하는 Matplotlib의 함수입니다. 이 함수는 매개변수를 받지 않고 현재 그림의 레이아웃을 조정합니다."
   ]
  },
  {
   "cell_type": "markdown",
   "metadata": {
    "id": "tIjsThMrsD80"
   },
   "source": [
    "- 동일한 plot 을 함수형 방식으로 그릴 수 있습니다."
   ]
  },
  {
   "cell_type": "markdown",
   "metadata": {
    "id": "IXpm6rZisD81"
   },
   "source": [
    "### Box and Whisker Plots (상자 수염 그림)\n",
    "\n",
    "- 5가지 통계 요약 수치 (최솟값, 제 1사분위, 제 2사분위, 제 3사분위, 최댓값) 로 시각화 합니다.\n",
    "```\n",
    "    Q1-1.5IQR   Q1  median  Q3   Q3+1.5IQR\n",
    "                          |---------:------|\n",
    "       o      |--------|           :       |--------|    o  o\n",
    "                          |---------:------|\n",
    "     flier               <-------------->            fliers\n",
    "                                 IQR\n",
    "```"
   ]
  },
  {
   "cell_type": "markdown",
   "metadata": {
    "id": "wK_3ZJl-sD81"
   },
   "source": [
    "whis  : 기본값은 1.5 입니다. 아래쪽 수염은 가장 낮은 수치인 ``Q1 - whis*(Q3-Q1)``의 위쪽에 수염이 있고, 위쪽 수염은 가장 높은 수치인 ``Q3 + whis*(Q3-Q1)`` 아래에 있으며, 여기서 Q1과 Q3은 1, 3 사분위수입니다. 수염을 벗어난 데이터는 이상값으로 간주되어 개별 점으로 플롯됩니다. whis=(0, 100)으로 설정하면 데이터의 전체 범위를 포괄하는 수염이 그려집니다."
   ]
  }
 ],
 "metadata": {
  "colab": {
   "provenance": []
  },
  "kernelspec": {
   "display_name": "Python 3 (ipykernel)",
   "language": "python",
   "name": "python3"
  },
  "language_info": {
   "codemirror_mode": {
    "name": "ipython",
    "version": 3
   },
   "file_extension": ".py",
   "mimetype": "text/x-python",
   "name": "python",
   "nbconvert_exporter": "python",
   "pygments_lexer": "ipython3",
   "version": "3.9.16"
  }
 },
 "nbformat": 4,
 "nbformat_minor": 4
}
