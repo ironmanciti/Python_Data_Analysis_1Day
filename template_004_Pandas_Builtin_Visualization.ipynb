{
 "cells": [
  {
   "cell_type": "markdown",
   "metadata": {
    "id": "z2uS7KdNv3IL"
   },
   "source": [
    "# Pandas 내장 함수를 이용한 시각화"
   ]
  },
  {
   "cell_type": "markdown",
   "metadata": {
    "id": "_jJx2DLXv3IN"
   },
   "source": [
    "## Series / DataFrame 의 plotting\n",
    "\n",
    "- X 축 : index value   \n",
    "\n",
    "- Y 축 : 해당 index 의 value\n",
    "\n",
    "- plot 의 종규\n",
    "\n",
    "    * `line` (default)\n",
    "    * `bar` : vertical bar plots\n",
    "    * `barh` :  horizontal bar plots\n",
    "    * `hist` : histogram\n",
    "    * `box` : boxplot\n",
    "    * `kde` or `density` : density plots\n",
    "    * `area` : area plots\n",
    "    * `pie` : pie plots\n",
    "    * `scatter` : scatter plots\n",
    "    * `hexbin` : hexbin plot"
   ]
  },
  {
   "cell_type": "markdown",
   "metadata": {
    "id": "BH1TpAc0v3IN"
   },
   "source": [
    "가상의 시계열 데이터프레임을 만듭니다. DateTime 인덱스를 2021년 1월 1일 부터 365일 기간 동안으로 설정합니다."
   ]
  },
  {
   "cell_type": "markdown",
   "metadata": {
    "id": "9q0eNvcPv3IO"
   },
   "source": [
    "모든 column 을 동시에 plot"
   ]
  },
  {
   "cell_type": "markdown",
   "metadata": {
    "id": "cKxpgqVCv3IO"
   },
   "source": [
    "특정 column 을 x 축, y 축으로 지정"
   ]
  },
  {
   "cell_type": "markdown",
   "metadata": {
    "id": "uFOVWFOwv3IO"
   },
   "source": [
    "색을 이용하여 2 차원 평면상에 3 차원 정보를 plot 할 수 있습니다."
   ]
  },
  {
   "cell_type": "markdown",
   "metadata": {
    "id": "_qKoZTK_v3IO"
   },
   "source": [
    "matplotlib 사용과 비교"
   ]
  },
  {
   "cell_type": "markdown",
   "metadata": {
    "id": "2oKmbLL1v3IP"
   },
   "source": [
    "- box plot"
   ]
  },
  {
   "cell_type": "markdown",
   "metadata": {
    "id": "b5IbBf-5v3IP"
   },
   "source": [
    "- histogram"
   ]
  },
  {
   "cell_type": "markdown",
   "metadata": {
    "id": "-HjwaNzZv3IP"
   },
   "source": [
    "## 1980년부터 2013년까지 캐나다로의 이민 분석\n",
    "\n",
    "https://www.un.org/development/desa/pd/data/international-migration-flows\n",
    "\n",
    "이 데이터 세트에는 목적지 국가별로 기록된 국제 이민자 흐름에 대한 연간 데이터가 포함되어 있습니다. 이 데이터는 외국인과 내국인의 출생지, 시민권 또는 이전 거주지/다음 거주지에 따라 유입과 유출을 모두 표시합니다. 현재 버전은 45개국의 데이터를 제공합니다.\n",
    "\n",
    "이 실습에서는 캐나다 이민 데이터에 중점을 둘 것입니다."
   ]
  },
  {
   "cell_type": "markdown",
   "metadata": {
    "id": "Q16UcLQMv3IP"
   },
   "source": [
    "캐나다 이민자 데이터를 읽어 들입니다."
   ]
  },
  {
   "cell_type": "markdown",
   "metadata": {
    "id": "ofGsDkNvv3IQ"
   },
   "source": [
    "불필요한 열(예 : AREA, REG)을 제거합니다."
   ]
  },
  {
   "cell_type": "markdown",
   "metadata": {
    "id": "CNHPlsTuv3IQ"
   },
   "source": [
    "이해하기 쉽게 열 이름을 변경합니다."
   ]
  },
  {
   "cell_type": "markdown",
   "metadata": {
    "id": "CZttJYQav3IQ"
   },
   "source": [
    "국가 이름을 index로 설정하면 .loc 메소드를 사용하여 국가를 빠르게 찾는 데 유용합니다."
   ]
  },
  {
   "cell_type": "markdown",
   "metadata": {
    "id": "-kl3LgQov3IQ"
   },
   "source": [
    "total column을 추가합니다."
   ]
  },
  {
   "cell_type": "markdown",
   "metadata": {
    "id": "0tLw9ogBv3IR"
   },
   "source": [
    "Haiti 에서의 연도별 이민자 수를 Line Plot으로 시각화합니다.  "
   ]
  },
  {
   "cell_type": "markdown",
   "metadata": {
    "id": "j1CgBZIPv3IR"
   },
   "source": [
    "다른 나라들 간의 이민자 수 비교를 위해 그래프에 더 많은 국가를 추가 합니다.\n",
    "\n",
    "- 1980 년부터 2013 년까지 인도와 중국 이민자 수를 비교\n",
    "\n",
    "Step 1: China 와 India 를 dataframe 에서 따로 추출하여 plot 합니다."
   ]
  },
  {
   "cell_type": "markdown",
   "metadata": {
    "id": "NbcXmGNqv3IR"
   },
   "source": [
    "*pandas*는 x 축의 인덱스와 y 축의 개별 라인으로의 열을 그립니다. `df_ci`는`국가`를 인덱스로, `연도`를 컬럼으로하는 데이터 프레임이기 때문에 `연도`를 x축으로 표시하려면 `transpose ()`메소드를 사용하여 데이터 프레임의 행과 열을 변경합니다."
   ]
  },
  {
   "cell_type": "markdown",
   "metadata": {
    "id": "1xNv7baqv3IR"
   },
   "source": [
    "캐나다 이민에 가장 많은 기여를 한 상위 5 개국의 추세를 비교해 봅니다."
   ]
  },
  {
   "cell_type": "markdown",
   "metadata": {
    "id": "48NWEe_8v3IS"
   },
   "source": [
    "국가명 `United Kingdom of Great Britain and Northern Ireland`이 너무 길므로 짧은 이름으로 변경합니다."
   ]
  },
  {
   "cell_type": "markdown",
   "metadata": {
    "id": "MNHnxeeFv3IS"
   },
   "source": [
    "top5 국가의 연도별 이민자 증감 추세를 한 차트로 비교해 봅니다."
   ]
  },
  {
   "cell_type": "markdown",
   "metadata": {
    "id": "SuBnBRIpv3IT"
   },
   "source": [
    "## Bar Chart + 주석 달기\n",
    "\n",
    "bar chart는 그룹화된 범주형 변수의 크기를 표시합니다. 통계에 의하면 세계 금융위기 기간 중 Iceland로 부터 Canada로의 이민자가 급격히 늘었다고 합니다. 이를 시각화를 통해 확인해 봅니다."
   ]
  }
 ],
 "metadata": {
  "colab": {
   "provenance": []
  },
  "kernelspec": {
   "display_name": "Python 3 (ipykernel)",
   "language": "python",
   "name": "python3"
  },
  "language_info": {
   "codemirror_mode": {
    "name": "ipython",
    "version": 3
   },
   "file_extension": ".py",
   "mimetype": "text/x-python",
   "name": "python",
   "nbconvert_exporter": "python",
   "pygments_lexer": "ipython3",
   "version": "3.9.16"
  }
 },
 "nbformat": 4,
 "nbformat_minor": 4
}
