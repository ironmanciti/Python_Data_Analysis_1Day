{
 "cells": [
  {
   "cell_type": "markdown",
   "metadata": {
    "id": "4Y_vHj5liWzj"
   },
   "source": [
    "# Pandas 기초"
   ]
  },
  {
   "cell_type": "markdown",
   "metadata": {
    "id": "90lQ70i4iWzk"
   },
   "source": [
    "## Pandas 는 Series data type 과 DataFrame data type 으로 구성"
   ]
  },
  {
   "cell_type": "markdown",
   "metadata": {
    "id": "hwM2JUlliWzk"
   },
   "source": [
    "### Series (1 차원) : numpy array 와 유사.\n",
    "- 차이점 - numpy 와 달리 Series 는 axis (행, 열)에 label 을 부여할 수 있습니다. 즉, numpy 와 같이 숫자로만 indexing 하는 것이 아니라 label 명으로 indexing 을 할 수 있습니다. 또한 숫자 뿐 아니라 임의의 Python object 를 모두 element 로 가질 수 있습니다."
   ]
  },
  {
   "cell_type": "markdown",
   "metadata": {
    "id": "gu4Kh2nriWzk"
   },
   "source": [
    "### DataFrame (2차원, table)\n",
    "- Python program 안의 Excel"
   ]
  },
  {
   "cell_type": "markdown",
   "metadata": {
    "id": "vtI6ZdHZiWzk"
   },
   "source": [
    "<img src=\"https://github.com/ironmanciti/Python_Data_Analysis_1Day/blob/main/base_01_pandas_5_0.png?raw=1\" width=\"600\">"
   ]
  },
  {
   "cell_type": "markdown",
   "metadata": {
    "id": "7qpImMRjiWzo"
   },
   "source": [
    "### DataFrame\n",
    "\n",
    "DataFrame 은 여러개의 Series 를 같은 index 기준으로 모아 Table 을 만든 것 입니다."
   ]
  },
  {
   "cell_type": "markdown",
   "metadata": {
    "id": "TXZZQOrEiWzo"
   },
   "source": [
    "DataFrame의 데이터로 사용할 random 숫자를 생성합니다. numpy의 정규분포 생성 함수를 이용하여 (5, 4) shape의 array를 생성합니다."
   ]
  },
  {
   "cell_type": "markdown",
   "metadata": {
    "id": "vayJgTm5iWzo"
   },
   "source": [
    "생성한 데이터를 이용하여  DataFrame을 생성합니다. Index 값과 column 명을 지정하여 생성합니다."
   ]
  },
  {
   "cell_type": "markdown",
   "metadata": {
    "id": "FRrEUsZMiWzo"
   },
   "source": [
    "dataframe 의 column 명"
   ]
  },
  {
   "cell_type": "markdown",
   "metadata": {
    "id": "HzLm3SMkiWzo"
   },
   "source": [
    "column 별 unique value 의 갯수"
   ]
  },
  {
   "cell_type": "markdown",
   "metadata": {
    "id": "JJNKx3N_iWzp"
   },
   "source": [
    "특정 column의 value별로 갯수를 count 합니다."
   ]
  },
  {
   "cell_type": "markdown",
   "metadata": {
    "id": "0ZOpHPjLiWzp"
   },
   "source": [
    "다음은 df.info()가 제공하는 정보에 대한 분석입니다:\n",
    "\n",
    "행 수: 데이터프레임의 행 수입니다.  \n",
    "열 수: 데이터 프레임의 열 수입니다.  \n",
    "열 이름: 데이터프레임에 있는 열의 이름입니다.  \n",
    "개수: 데이터프레임의 각 열에 있는 널이 아닌 값의 수입니다.  \n",
    "데이터 유형: 데이터 프레임에 있는 각 열의 데이터 유형입니다.  \n",
    "메모리 사용량: 데이터프레임에서 사용하는 메모리 양입니다."
   ]
  },
  {
   "cell_type": "markdown",
   "metadata": {
    "id": "XiULs6MwiWzp"
   },
   "source": [
    "DataFrame의 기술통계를 제공합니다."
   ]
  },
  {
   "cell_type": "markdown",
   "metadata": {
    "id": "vYVu8A-viWzp"
   },
   "source": [
    "### DataFrame indexing"
   ]
  },
  {
   "cell_type": "markdown",
   "metadata": {
    "id": "ISZ9CkwIiWzq"
   },
   "source": [
    "한개의 column은 Series 객체를 반환합니다."
   ]
  },
  {
   "cell_type": "markdown",
   "metadata": {
    "id": "_Fi93CyCiWzq"
   },
   "source": [
    "2개 이상의 column을 선택하면 DataFrame을 반환합니다."
   ]
  },
  {
   "cell_type": "markdown",
   "metadata": {
    "id": "B0ExqVAIiWzq"
   },
   "source": [
    "특정 column을 지정하는 또다른 표현 방법입니다."
   ]
  },
  {
   "cell_type": "markdown",
   "metadata": {
    "id": "Y24ChvzMiWzr"
   },
   "source": [
    "### 조건에 따른 slicing"
   ]
  },
  {
   "cell_type": "markdown",
   "metadata": {
    "id": "kX_2LrM6iWzr"
   },
   "source": [
    "boolean indexing이 가능합니다."
   ]
  },
  {
   "cell_type": "markdown",
   "metadata": {
    "id": "xUdvnjywiWzr"
   },
   "source": [
    "### index values"
   ]
  },
  {
   "cell_type": "markdown",
   "metadata": {
    "id": "Fc_RwfmiiWzr"
   },
   "source": [
    "### new column 추가/삭제"
   ]
  },
  {
   "cell_type": "markdown",
   "metadata": {
    "id": "aJlq8OoZiWzs"
   },
   "source": [
    "원본 data는 update 되지 않았습니다."
   ]
  },
  {
   "cell_type": "markdown",
   "metadata": {
    "id": "C7VjZrQqiWzs"
   },
   "source": [
    "inplace=True는 원본 데이터를 update 합니다."
   ]
  },
  {
   "cell_type": "markdown",
   "metadata": {
    "id": "ZLTTRmvdiWzs"
   },
   "source": [
    "### Dictionary Example\n",
    "dictionary를 이용여 DataFrame을  생성합니다. dictionary의 key가 column 명이 되고 value가 column의 value가 됩니다."
   ]
  },
  {
   "cell_type": "markdown",
   "metadata": {
    "id": "pyci1bjbiWzs"
   },
   "source": [
    "- page 가 많은 순서로 sort"
   ]
  },
  {
   "cell_type": "markdown",
   "metadata": {
    "id": "W2UntlOWiWzt"
   },
   "source": [
    "book 과 year column 만 선택하여 새로운 DataFrame 을 생성합니다."
   ]
  },
  {
   "cell_type": "markdown",
   "metadata": {
    "id": "CKVNvUvNiWzt"
   },
   "source": [
    "index 순서를 이용하여 slicing합니다."
   ]
  },
  {
   "cell_type": "markdown",
   "metadata": {
    "id": "maQ_zoQ-iWzt"
   },
   "source": [
    "### Missing Data 처리\n",
    "\n",
    "- missing data 가 있는 row 혹은 columns 을 완전히 삭제 : dropna()\n",
    "- 임의의 data 로 대체 : fillna()"
   ]
  },
  {
   "cell_type": "markdown",
   "metadata": {
    "id": "BF8rrB5miWzt"
   },
   "source": [
    "missing value 를 포함하고 있는 모든 row 삭제 - default"
   ]
  },
  {
   "cell_type": "markdown",
   "metadata": {
    "id": "H_QCAv1OiWzu"
   },
   "source": [
    "axis=1은 열을 기준으로 하여 missing value 를 포함하고 있는 모든 column을 삭제합니다."
   ]
  },
  {
   "cell_type": "markdown",
   "metadata": {
    "id": "WeW39s4ziWzu"
   },
   "source": [
    "### missing value 대체"
   ]
  },
  {
   "cell_type": "markdown",
   "metadata": {
    "id": "OeT3v0A-iWzu"
   },
   "source": [
    "특정 값으로 채워줍니다."
   ]
  },
  {
   "cell_type": "markdown",
   "metadata": {
    "id": "48gEz15DiWzu"
   },
   "source": [
    "평균값으로 채워줍니다."
   ]
  }
 ],
 "metadata": {
  "colab": {
   "provenance": []
  },
  "kernelspec": {
   "display_name": "Python 3 (ipykernel)",
   "language": "python",
   "name": "python3"
  },
  "language_info": {
   "codemirror_mode": {
    "name": "ipython",
    "version": 3
   },
   "file_extension": ".py",
   "mimetype": "text/x-python",
   "name": "python",
   "nbconvert_exporter": "python",
   "pygments_lexer": "ipython3",
   "version": "3.9.16"
  }
 },
 "nbformat": 4,
 "nbformat_minor": 4
}
