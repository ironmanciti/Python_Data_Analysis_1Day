{
 "cells": [
  {
   "cell_type": "markdown",
   "metadata": {
    "id": "VFAy10xm9GKH"
   },
   "source": [
    "# EDA - 맥도날드 메뉴 영양 분석\n",
    "\n",
    "- 이 데이터 세트는 아침 식사, 소고기 버거, 치킨 및 생선 샌드위치, 감자 튀김, 샐러드, 소다, 커피 및 차, 밀크 셰이크 및 디저트를 포함하여 미국 맥도날드 메뉴의 모든 메뉴 항목에 대한 영양 분석을 제공합니다."
   ]
  },
  {
   "cell_type": "markdown",
   "metadata": {
    "id": "QXuEKtxk9GKJ"
   },
   "source": [
    "연속 수치 변수의 기술 통계"
   ]
  },
  {
   "cell_type": "markdown",
   "metadata": {
    "id": "aUbW597i9GKJ"
   },
   "source": [
    "category 변수의 기술 통계"
   ]
  },
  {
   "cell_type": "markdown",
   "metadata": {
    "id": "LgSLA9Rq9GKJ"
   },
   "source": [
    "### 어떤 food item 이 가장 나트륨(sodium) 함량이 높은지 분석"
   ]
  },
  {
   "cell_type": "markdown",
   "metadata": {
    "id": "4jDtDayY9GKJ"
   },
   "source": [
    "### swarmplot\n",
    "\n",
    "겹치지 않는 점으로 범주형 산점도를 생성하는 seaborn 라이브러리의 함수입니다."
   ]
  },
  {
   "cell_type": "markdown",
   "metadata": {
    "id": "Kkv-jumi9GKK"
   },
   "source": [
    "`Chicken & Fish Category` 에 3500 을 넘는 Sodium 이 있습니다. 어떤 item 인지 탐색해 봅니다."
   ]
  },
  {
   "cell_type": "markdown",
   "metadata": {
    "id": "yyXC5A-e9GKK"
   },
   "source": [
    "`idxmax()` 메소드를 이용하여 max 값의 index 를 구합니다."
   ]
  },
  {
   "cell_type": "markdown",
   "metadata": {
    "id": "iMsxwWbP9GKK"
   },
   "source": [
    "`.loc` 메소드를 이용하여 해당 index의 `item` 과 `Sodium` 값을 구합니다."
   ]
  },
  {
   "cell_type": "markdown",
   "metadata": {
    "id": "EGSR_4ua9GKL"
   },
   "source": [
    "`Chicken & Fish Category `의 `Chicken McNuggets (40 piece)` item 이 가장 나트륨 함량이 높음을 찾았습니다."
   ]
  },
  {
   "cell_type": "markdown",
   "metadata": {
    "id": "ub1tk5-i9GKL"
   },
   "source": [
    "### 단백질과 지방과의 상관 관계 탐색"
   ]
  },
  {
   "cell_type": "markdown",
   "metadata": {
    "id": "hWPtTnap9GKL"
   },
   "source": [
    "단백질과 지방은 선형 관계가 있는 것으로 보입니다."
   ]
  },
  {
   "cell_type": "markdown",
   "metadata": {
    "id": "Xt-0mXmx9GKL"
   },
   "source": [
    "### 결론\n",
    "\n",
    "- 염분 과다 섭취를 피하기 위해 Chicken McNuggets (40 piece) 을 먹지 말고  \n",
    "- 단백질과 지방은 비례 관계가 있으므로 고지방 섭취를 피하기 위해 단백질이 적은 식품을 섭취"
   ]
  }
 ],
 "metadata": {
  "anaconda-cloud": {},
  "colab": {
   "provenance": []
  },
  "kernelspec": {
   "display_name": "Python 3 (ipykernel)",
   "language": "python",
   "name": "python3"
  },
  "language_info": {
   "codemirror_mode": {
    "name": "ipython",
    "version": 3
   },
   "file_extension": ".py",
   "mimetype": "text/x-python",
   "name": "python",
   "nbconvert_exporter": "python",
   "pygments_lexer": "ipython3",
   "version": "3.9.7"
  }
 },
 "nbformat": 4,
 "nbformat_minor": 0
}
